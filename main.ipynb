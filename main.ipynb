{
 "cells": [
  {
   "attachments": {},
   "cell_type": "markdown",
   "metadata": {},
   "source": [
    "# Example usage of the provided scripts\n",
    "In this Jupyter notebook file, we explore the capabilities of the code provided for the thesis, which could be found on '[INSERT LINK]'"
   ]
  },
  {
   "cell_type": "code",
   "execution_count": 18,
   "metadata": {},
   "outputs": [],
   "source": [
    "#we first import the modules, containing the scripts needed\n",
    "import preprocessing\n",
    "import clustering"
   ]
  },
  {
   "cell_type": "code",
   "execution_count": 19,
   "metadata": {},
   "outputs": [
    {
     "name": "stdout",
     "output_type": "stream",
     "text": [
      "3.0    83025\n",
      "0.0    43609\n",
      "2.0    14507\n",
      "1.0     9713\n",
      "Name: label, dtype: int64\n"
     ]
    },
    {
     "data": {
      "text/html": [
       "<div>\n",
       "<style scoped>\n",
       "    .dataframe tbody tr th:only-of-type {\n",
       "        vertical-align: middle;\n",
       "    }\n",
       "\n",
       "    .dataframe tbody tr th {\n",
       "        vertical-align: top;\n",
       "    }\n",
       "\n",
       "    .dataframe thead th {\n",
       "        text-align: right;\n",
       "    }\n",
       "</style>\n",
       "<table border=\"1\" class=\"dataframe\">\n",
       "  <thead>\n",
       "    <tr style=\"text-align: right;\">\n",
       "      <th></th>\n",
       "      <th>0</th>\n",
       "      <th>1</th>\n",
       "      <th>2</th>\n",
       "      <th>3</th>\n",
       "      <th>4</th>\n",
       "      <th>5</th>\n",
       "      <th>label</th>\n",
       "    </tr>\n",
       "  </thead>\n",
       "  <tbody>\n",
       "    <tr>\n",
       "      <th>0</th>\n",
       "      <td>19.770703</td>\n",
       "      <td>0.460578</td>\n",
       "      <td>0.406713</td>\n",
       "      <td>0.001356</td>\n",
       "      <td>0.646241</td>\n",
       "      <td>155.928928</td>\n",
       "      <td>3.0</td>\n",
       "    </tr>\n",
       "    <tr>\n",
       "      <th>1</th>\n",
       "      <td>5.638236</td>\n",
       "      <td>0.314984</td>\n",
       "      <td>0.389289</td>\n",
       "      <td>0.001298</td>\n",
       "      <td>0.628583</td>\n",
       "      <td>173.623629</td>\n",
       "      <td>3.0</td>\n",
       "    </tr>\n",
       "    <tr>\n",
       "      <th>2</th>\n",
       "      <td>1.265950</td>\n",
       "      <td>-0.738792</td>\n",
       "      <td>0.374806</td>\n",
       "      <td>0.001249</td>\n",
       "      <td>0.623892</td>\n",
       "      <td>184.534718</td>\n",
       "      <td>3.0</td>\n",
       "    </tr>\n",
       "    <tr>\n",
       "      <th>3</th>\n",
       "      <td>1.354811</td>\n",
       "      <td>-0.321053</td>\n",
       "      <td>0.362937</td>\n",
       "      <td>0.001210</td>\n",
       "      <td>0.630527</td>\n",
       "      <td>189.293734</td>\n",
       "      <td>3.0</td>\n",
       "    </tr>\n",
       "    <tr>\n",
       "      <th>4</th>\n",
       "      <td>2.595628</td>\n",
       "      <td>0.030725</td>\n",
       "      <td>0.353355</td>\n",
       "      <td>0.001178</td>\n",
       "      <td>0.646847</td>\n",
       "      <td>188.532215</td>\n",
       "      <td>3.0</td>\n",
       "    </tr>\n",
       "  </tbody>\n",
       "</table>\n",
       "</div>"
      ],
      "text/plain": [
       "           0         1         2         3         4           5  label\n",
       "0  19.770703  0.460578  0.406713  0.001356  0.646241  155.928928    3.0\n",
       "1   5.638236  0.314984  0.389289  0.001298  0.628583  173.623629    3.0\n",
       "2   1.265950 -0.738792  0.374806  0.001249  0.623892  184.534718    3.0\n",
       "3   1.354811 -0.321053  0.362937  0.001210  0.630527  189.293734    3.0\n",
       "4   2.595628  0.030725  0.353355  0.001178  0.646847  188.532215    3.0"
      ]
     },
     "execution_count": 19,
     "metadata": {},
     "output_type": "execute_result"
    }
   ],
   "source": [
    "df= preprocessing.file_opener() #opening the file\n",
    "df= df.drop('task', axis = 1) #discard 'task' column, since we don't need it\n",
    "\n",
    "print(df.label.value_counts()) #print the distribution of the dataset\n",
    "df.head() #display the first 5 rows of the dataset"
   ]
  },
  {
   "attachments": {},
   "cell_type": "markdown",
   "metadata": {},
   "source": [
    "### data evaluation I\n",
    "In the provided table, we can see that the data is loaded correctly, but is not normalized. Normalization of the data is needed, since the data is dimensionless. We can also see that not each label is reperesented equally, which means that we need to do databalancing."
   ]
  },
  {
   "cell_type": "code",
   "execution_count": 20,
   "metadata": {},
   "outputs": [
    {
     "name": "stdout",
     "output_type": "stream",
     "text": [
      "3.0    9713\n",
      "2.0    9713\n",
      "0.0    9713\n",
      "1.0    9713\n",
      "Name: label, dtype: int64\n"
     ]
    }
   ],
   "source": [
    "df = preprocessing.random_undersampler(df) #We randomly undersample the data\n",
    "print(df.label.value_counts())"
   ]
  },
  {
   "attachments": {},
   "cell_type": "markdown",
   "metadata": {},
   "source": [
    "We can now see that Each label is represented equally, which means that we can continue to following steps. We are now going to normalize the data, with our own made normalization function, since this function normalizes the data per column and not over the whole dataset in once."
   ]
  },
  {
   "cell_type": "code",
   "execution_count": 21,
   "metadata": {},
   "outputs": [],
   "source": [
    "labels = df.label   #we do not want the labels to be normalized, so remove them temporarily from the dataset.\n",
    "df= df.drop('label', axis = 1)"
   ]
  },
  {
   "cell_type": "code",
   "execution_count": 22,
   "metadata": {},
   "outputs": [],
   "source": [
    "df = preprocessing.normalize(df)    #self made normalization function"
   ]
  },
  {
   "cell_type": "code",
   "execution_count": 29,
   "metadata": {},
   "outputs": [
    {
     "data": {
      "text/html": [
       "<div>\n",
       "<style scoped>\n",
       "    .dataframe tbody tr th:only-of-type {\n",
       "        vertical-align: middle;\n",
       "    }\n",
       "\n",
       "    .dataframe tbody tr th {\n",
       "        vertical-align: top;\n",
       "    }\n",
       "\n",
       "    .dataframe thead th {\n",
       "        text-align: right;\n",
       "    }\n",
       "</style>\n",
       "<table border=\"1\" class=\"dataframe\">\n",
       "  <thead>\n",
       "    <tr style=\"text-align: right;\">\n",
       "      <th></th>\n",
       "      <th>0</th>\n",
       "      <th>1</th>\n",
       "      <th>2</th>\n",
       "      <th>3</th>\n",
       "      <th>4</th>\n",
       "      <th>5</th>\n",
       "    </tr>\n",
       "  </thead>\n",
       "  <tbody>\n",
       "    <tr>\n",
       "      <th>4799</th>\n",
       "      <td>0.000868</td>\n",
       "      <td>0.865272</td>\n",
       "      <td>0.404586</td>\n",
       "      <td>0.566515</td>\n",
       "      <td>0.335754</td>\n",
       "      <td>0.449891</td>\n",
       "    </tr>\n",
       "    <tr>\n",
       "      <th>3077</th>\n",
       "      <td>0.000428</td>\n",
       "      <td>0.816026</td>\n",
       "      <td>0.404624</td>\n",
       "      <td>0.566389</td>\n",
       "      <td>0.491194</td>\n",
       "      <td>0.568572</td>\n",
       "    </tr>\n",
       "    <tr>\n",
       "      <th>19536</th>\n",
       "      <td>0.000055</td>\n",
       "      <td>0.697549</td>\n",
       "      <td>0.404632</td>\n",
       "      <td>0.566086</td>\n",
       "      <td>0.266149</td>\n",
       "      <td>0.490393</td>\n",
       "    </tr>\n",
       "    <tr>\n",
       "      <th>11137</th>\n",
       "      <td>0.000005</td>\n",
       "      <td>0.332559</td>\n",
       "      <td>0.404572</td>\n",
       "      <td>0.566595</td>\n",
       "      <td>0.365931</td>\n",
       "      <td>0.570092</td>\n",
       "    </tr>\n",
       "    <tr>\n",
       "      <th>13315</th>\n",
       "      <td>0.000016</td>\n",
       "      <td>0.656816</td>\n",
       "      <td>0.404766</td>\n",
       "      <td>0.566752</td>\n",
       "      <td>0.374871</td>\n",
       "      <td>0.486119</td>\n",
       "    </tr>\n",
       "  </tbody>\n",
       "</table>\n",
       "</div>"
      ],
      "text/plain": [
       "              0         1         2         3         4         5\n",
       "4799   0.000868  0.865272  0.404586  0.566515  0.335754  0.449891\n",
       "3077   0.000428  0.816026  0.404624  0.566389  0.491194  0.568572\n",
       "19536  0.000055  0.697549  0.404632  0.566086  0.266149  0.490393\n",
       "11137  0.000005  0.332559  0.404572  0.566595  0.365931  0.570092\n",
       "13315  0.000016  0.656816  0.404766  0.566752  0.374871  0.486119"
      ]
     },
     "execution_count": 29,
     "metadata": {},
     "output_type": "execute_result"
    }
   ],
   "source": [
    "df.head()   #check the preprocessed dataset"
   ]
  },
  {
   "attachments": {},
   "cell_type": "markdown",
   "metadata": {},
   "source": [
    "## data evaluation II\n",
    "The preprocessed dataset now shows normalized values and as shown above is balanced equally. We will now continue with the clustering of the data"
   ]
  },
  {
   "attachments": {},
   "cell_type": "markdown",
   "metadata": {},
   "source": [
    "# Clustering\n",
    "We will now cluster the data and put it in files, called 'percentages'. these files contain The clusternumber, label distribution, label, percentage of majority label and the coordinates of the cluster center. We save it in files, to get consistent results in the clustering analysis."
   ]
  },
  {
   "cell_type": "code",
   "execution_count": 24,
   "metadata": {},
   "outputs": [
    {
     "name": "stdout",
     "output_type": "stream",
     "text": [
      "10\n",
      "50\n",
      "100\n",
      "10\n",
      "50\n",
      "100\n",
      "10\n",
      "50\n",
      "100\n",
      "10\n",
      "50\n",
      "100\n"
     ]
    },
    {
     "data": {
      "text/plain": [
       "<Figure size 640x480 with 0 Axes>"
      ]
     },
     "metadata": {},
     "output_type": "display_data"
    }
   ],
   "source": [
    "clustering.clustering_filemaker(df, labels, 'all') "
   ]
  },
  {
   "attachments": {},
   "cell_type": "markdown",
   "metadata": {},
   "source": [
    "We now read the file we created before and proces it further, so it could be used."
   ]
  },
  {
   "cell_type": "code",
   "execution_count": 25,
   "metadata": {},
   "outputs": [],
   "source": [
    "import pandas as pd\n",
    "task = 'all'\n",
    "cluster_number = 50\n",
    "clusters = pd.read_csv('plots/clustering/t_%s/c_%i/percentages.csv'%(task, cluster_number)) #read the created csv file\n",
    "clusters = clustering.convert_perc_to_ratio(clusters)   #convert the percentages to ratios, which could be used in the rest of the script"
   ]
  },
  {
   "cell_type": "code",
   "execution_count": 26,
   "metadata": {},
   "outputs": [
    {
     "data": {
      "text/html": [
       "<div>\n",
       "<style scoped>\n",
       "    .dataframe tbody tr th:only-of-type {\n",
       "        vertical-align: middle;\n",
       "    }\n",
       "\n",
       "    .dataframe tbody tr th {\n",
       "        vertical-align: top;\n",
       "    }\n",
       "\n",
       "    .dataframe thead th {\n",
       "        text-align: right;\n",
       "    }\n",
       "</style>\n",
       "<table border=\"1\" class=\"dataframe\">\n",
       "  <thead>\n",
       "    <tr style=\"text-align: right;\">\n",
       "      <th></th>\n",
       "      <th>cluster</th>\n",
       "      <th>label distribution</th>\n",
       "      <th>label</th>\n",
       "      <th>label percentage</th>\n",
       "      <th>cluster center</th>\n",
       "    </tr>\n",
       "  </thead>\n",
       "  <tbody>\n",
       "    <tr>\n",
       "      <th>0</th>\n",
       "      <td>0</td>\n",
       "      <td>{0: 130, 1: 383, 2: 622, 3: 219}</td>\n",
       "      <td>2</td>\n",
       "      <td>0.46</td>\n",
       "      <td>[0.00058275, 0.28541932, 0.40484749, 0.5662236...</td>\n",
       "    </tr>\n",
       "    <tr>\n",
       "      <th>1</th>\n",
       "      <td>1</td>\n",
       "      <td>{0: 649, 1: 171, 2: 111, 3: 168}</td>\n",
       "      <td>0</td>\n",
       "      <td>0.59</td>\n",
       "      <td>[3.41436625e-05, 0.759379768, 0.404568339, 0.5...</td>\n",
       "    </tr>\n",
       "    <tr>\n",
       "      <th>2</th>\n",
       "      <td>2</td>\n",
       "      <td>{0: 111, 1: 326, 2: 72, 3: 201}</td>\n",
       "      <td>1</td>\n",
       "      <td>0.46</td>\n",
       "      <td>[4.90226075e-05, 0.268588634, 0.404753653, 0.5...</td>\n",
       "    </tr>\n",
       "    <tr>\n",
       "      <th>3</th>\n",
       "      <td>3</td>\n",
       "      <td>{0: 100, 1: 126, 2: 254, 3: 298}</td>\n",
       "      <td>3</td>\n",
       "      <td>0.38</td>\n",
       "      <td>[0.000180681354, 0.915050864, 0.406605793, 0.5...</td>\n",
       "    </tr>\n",
       "    <tr>\n",
       "      <th>4</th>\n",
       "      <td>4</td>\n",
       "      <td>{0: 115, 1: 363, 2: 249, 3: 302}</td>\n",
       "      <td>1</td>\n",
       "      <td>0.35</td>\n",
       "      <td>[7.43702829e-05, 0.734285715, 0.405439447, 0.5...</td>\n",
       "    </tr>\n",
       "  </tbody>\n",
       "</table>\n",
       "</div>"
      ],
      "text/plain": [
       "   cluster                label distribution  label  label percentage  \\\n",
       "0        0  {0: 130, 1: 383, 2: 622, 3: 219}      2              0.46   \n",
       "1        1  {0: 649, 1: 171, 2: 111, 3: 168}      0              0.59   \n",
       "2        2   {0: 111, 1: 326, 2: 72, 3: 201}      1              0.46   \n",
       "3        3  {0: 100, 1: 126, 2: 254, 3: 298}      3              0.38   \n",
       "4        4  {0: 115, 1: 363, 2: 249, 3: 302}      1              0.35   \n",
       "\n",
       "                                      cluster center  \n",
       "0  [0.00058275, 0.28541932, 0.40484749, 0.5662236...  \n",
       "1  [3.41436625e-05, 0.759379768, 0.404568339, 0.5...  \n",
       "2  [4.90226075e-05, 0.268588634, 0.404753653, 0.5...  \n",
       "3  [0.000180681354, 0.915050864, 0.406605793, 0.5...  \n",
       "4  [7.43702829e-05, 0.734285715, 0.405439447, 0.5...  "
      ]
     },
     "execution_count": 26,
     "metadata": {},
     "output_type": "execute_result"
    }
   ],
   "source": [
    "#we now change the string of 'cluster center' to a list and check the result of the preprocessing\n",
    "centroids = []\n",
    "for i in clusters.values:\n",
    "    centroids.append([float(num) for num in i[4].replace('[', '').replace(']','').split()])\n",
    "clusters['cluster center'] = centroids\n",
    "clusters.head()"
   ]
  },
  {
   "attachments": {},
   "cell_type": "markdown",
   "metadata": {},
   "source": [
    "## clustering evaluation I\n",
    "we can see that the data is loaded properly and after the preprocessing we did above, we can also see that it is in the correct format for further usage. We will now find the closest eucledian distance for datapoints in the dataset and take the confidecnce score of the cluster into account, to predict to which cluster a datapoint belongs. more explanation of this method could be found in the paper: CLASSIFICATION OF GAZE EVENTS IN MOBILE EYE-TRACKERS USING MACHINE LEARNING"
   ]
  },
  {
   "cell_type": "code",
   "execution_count": 27,
   "metadata": {},
   "outputs": [],
   "source": [
    "predicted = clustering.predict(df, clusters.values)"
   ]
  },
  {
   "cell_type": "code",
   "execution_count": 28,
   "metadata": {},
   "outputs": [
    {
     "name": "stdout",
     "output_type": "stream",
     "text": [
      "task: all\n",
      "              precision    recall  f1-score   support\n",
      "\n",
      "         0.0       0.18      0.31      0.22      9713\n",
      "         1.0       0.21      0.36      0.27      9713\n",
      "         2.0       0.15      0.08      0.10      9713\n",
      "         3.0       0.00      0.00      0.00      9713\n",
      "\n",
      "    accuracy                           0.19     38852\n",
      "   macro avg       0.13      0.19      0.15     38852\n",
      "weighted avg       0.13      0.19      0.15     38852\n",
      "\n"
     ]
    },
    {
     "name": "stderr",
     "output_type": "stream",
     "text": [
      "/Users/rubenotter/opt/anaconda3/lib/python3.8/site-packages/scikit_learn-1.2.0rc1-py3.8-macosx-11.1-arm64.egg/sklearn/metrics/_classification.py:1344: UndefinedMetricWarning: Precision and F-score are ill-defined and being set to 0.0 in labels with no predicted samples. Use `zero_division` parameter to control this behavior.\n",
      "  _warn_prf(average, modifier, msg_start, len(result))\n",
      "/Users/rubenotter/opt/anaconda3/lib/python3.8/site-packages/scikit_learn-1.2.0rc1-py3.8-macosx-11.1-arm64.egg/sklearn/metrics/_classification.py:1344: UndefinedMetricWarning: Precision and F-score are ill-defined and being set to 0.0 in labels with no predicted samples. Use `zero_division` parameter to control this behavior.\n",
      "  _warn_prf(average, modifier, msg_start, len(result))\n",
      "/Users/rubenotter/opt/anaconda3/lib/python3.8/site-packages/scikit_learn-1.2.0rc1-py3.8-macosx-11.1-arm64.egg/sklearn/metrics/_classification.py:1344: UndefinedMetricWarning: Precision and F-score are ill-defined and being set to 0.0 in labels with no predicted samples. Use `zero_division` parameter to control this behavior.\n",
      "  _warn_prf(average, modifier, msg_start, len(result))\n"
     ]
    },
    {
     "data": {
      "text/plain": [
       "Text(0.5, 1.0, 'task: all')"
      ]
     },
     "execution_count": 28,
     "metadata": {},
     "output_type": "execute_result"
    },
    {
     "data": {
      "image/png": "[encoded data removed]",
      "text/plain": [
       "<Figure size 640x480 with 2 Axes>"
      ]
     },
     "metadata": {},
     "output_type": "display_data"
    }
   ],
   "source": [
    "import matplotlib.pyplot as plt\n",
    "from sklearn.metrics import classification_report, confusion_matrix, accuracy_score, cohen_kappa_score\n",
    "import seaborn as sns\n",
    "\n",
    "print('task: ' + task)\n",
    "print(classification_report(labels, predicted))\n",
    "plt.clf()\n",
    "ax = sns.heatmap(confusion_matrix(predicted, labels), annot=True, cmap='Blues')\n",
    "\n",
    "ax.set_ylabel('\\nPredicted Values')\n",
    "ax.set_xlabel('Actual Values ')\n",
    "ax.set_title('task: '+ str(task))"
   ]
  },
  {
   "attachments": {},
   "cell_type": "markdown",
   "metadata": {},
   "source": [
    "## Clustering evaluation II\n",
    "We can see that the F1-scores are very poor, showing that this method could not be used for predicting gaze events in mobile eye-trackers."
   ]
  },
  {
   "attachments": {},
   "cell_type": "markdown",
   "metadata": {},
   "source": [
    "# Conclusion\n",
    "The code in this project provides a versatile toolbox for data scientists, specially made for using unsupervised machine learning, to classify gaze events in mobile eye-trackers. The proposed method could not be used to accurately predict gaze events, but we believe that the provided toolbox opens possibilities for further research!"
   ]
  },
  {
   "cell_type": "markdown",
   "metadata": {},
   "source": []
  }
 ],
 "metadata": {
  "kernelspec": {
   "display_name": "base",
   "language": "python",
   "name": "python3"
  },
  "language_info": {
   "codemirror_mode": {
    "name": "ipython",
    "version": 3
   },
   "file_extension": ".py",
   "mimetype": "text/x-python",
   "name": "python",
   "nbconvert_exporter": "python",
   "pygments_lexer": "ipython3",
   "version": "3.8.13"
  },
  "orig_nbformat": 4
 },
 "nbformat": 4,
 "nbformat_minor": 2
}
